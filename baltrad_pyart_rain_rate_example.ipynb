{
 "metadata": {
  "name": "",
  "signature": "sha256:9a9df39915fda3af2799463f7b66101bc361efe1700de7b72da4dd5ba74d3395"
 },
 "nbformat": 3,
 "nbformat_minor": 0,
 "worksheets": [
  {
   "cells": [
    {
     "cell_type": "heading",
     "level": 1,
     "metadata": {},
     "source": [
      "Rain rate retrieval using specific attenuation using BALTRAD and Py-ART"
     ]
    },
    {
     "cell_type": "markdown",
     "metadata": {},
     "source": [
      "In this notebook, a ODIM_H5 file is read using BALTRAD.  Then the rain rate is determined from the calculated specific attenuation using Py-ART."
     ]
    },
    {
     "cell_type": "code",
     "collapsed": false,
     "input": [
      "%pylab inline"
     ],
     "language": "python",
     "metadata": {},
     "outputs": []
    },
    {
     "cell_type": "markdown",
     "metadata": {},
     "source": [
      "Import the necessary modules."
     ]
    },
    {
     "cell_type": "code",
     "collapsed": false,
     "input": [
      "import pyart\n",
      "import baltrad_pyart_bridge as bridge  # routines to pass data from Py-ART and BALTRAD\n",
      "import _raveio   # BALTRAD's input/output module"
     ],
     "language": "python",
     "metadata": {},
     "outputs": []
    },
    {
     "cell_type": "markdown",
     "metadata": {},
     "source": [
      "Read in the data using RAVE (a component of BALTRAD)"
     ]
    },
    {
     "cell_type": "code",
     "collapsed": false,
     "input": [
      "rio = _raveio.open('data/201405190715_SUR.h5')"
     ],
     "language": "python",
     "metadata": {},
     "outputs": []
    },
    {
     "cell_type": "markdown",
     "metadata": {},
     "source": [
      "Convert the data to a Py-ART Radar object."
     ]
    },
    {
     "cell_type": "code",
     "collapsed": false,
     "input": [
      "radar = bridge.raveio2radar(rio)"
     ],
     "language": "python",
     "metadata": {},
     "outputs": []
    },
    {
     "cell_type": "markdown",
     "metadata": {},
     "source": [
      "Examine some of the radar moments."
     ]
    },
    {
     "cell_type": "code",
     "collapsed": false,
     "input": [
      "display = pyart.graph.RadarDisplay(radar)"
     ],
     "language": "python",
     "metadata": {},
     "outputs": []
    },
    {
     "cell_type": "code",
     "collapsed": false,
     "input": [
      "display.plot_ppi('DBZH', 0, vmin=-16, vmax=64.5)\n",
      "display.plot_range_rings([50, 100, 150, 200, 250])"
     ],
     "language": "python",
     "metadata": {},
     "outputs": []
    },
    {
     "cell_type": "code",
     "collapsed": false,
     "input": [
      "display.plot_ppi('PHIDP', 0, vmin=0, vmax=180)\n",
      "display.plot_range_rings([50, 100, 150, 200, 250])"
     ],
     "language": "python",
     "metadata": {},
     "outputs": []
    },
    {
     "cell_type": "code",
     "collapsed": false,
     "input": [
      "display.plot_ppi('RHOHV', 0, vmin=0, vmax=1.0, mask_outside=False)\n",
      "display.plot_range_rings([50, 100, 150, 200, 250])"
     ],
     "language": "python",
     "metadata": {},
     "outputs": []
    },
    {
     "cell_type": "code",
     "collapsed": false,
     "input": [
      "display.plot_ppi('SQI', 0, vmin=0, vmax=1, mask_outside=False)\n",
      "display.plot_range_rings([50, 100, 150, 200, 250])"
     ],
     "language": "python",
     "metadata": {},
     "outputs": []
    },
    {
     "cell_type": "markdown",
     "metadata": {},
     "source": [
      "Calculate the specific attenuation and attenuation corrected reflectivity using Py-ART, add these field to the radar object."
     ]
    },
    {
     "cell_type": "code",
     "collapsed": false,
     "input": [
      "spec_at, cor_z = pyart.correct.calculate_attenuation(\n",
      "    radar, 0, doc=0, refl_field='DBZH', ncp_field='SQI', \n",
      "    rhv_field='RHOHV', phidp_field='PHIDP', \n",
      "    fzl=8000,)\n",
      "# use the parameter below for a more 'cleanup up' attenuation field\n",
      "#ncp_min=-1, rhv_min=-1)"
     ],
     "language": "python",
     "metadata": {},
     "outputs": []
    },
    {
     "cell_type": "code",
     "collapsed": false,
     "input": [
      "if 'specific_attenuation' in radar.fields:\n",
      "    radar.fields.pop('specific_attenuation')\n",
      "if 'corrected_reflectivity' in radar.fields:\n",
      "    radar.fields.pop('corrected_reflectivity')\n",
      "radar.add_field('specific_attenuation', spec_at)\n",
      "radar.add_field('corrected_reflectivity', cor_z)"
     ],
     "language": "python",
     "metadata": {},
     "outputs": []
    },
    {
     "cell_type": "markdown",
     "metadata": {},
     "source": [
      "Examine these two new fields."
     ]
    },
    {
     "cell_type": "code",
     "collapsed": false,
     "input": [
      "display.plot_ppi('specific_attenuation', 0, vmin=0, vmax=0.1)\n",
      "display.plot_range_rings([50, 100, 150, 200, 250])"
     ],
     "language": "python",
     "metadata": {},
     "outputs": []
    },
    {
     "cell_type": "code",
     "collapsed": false,
     "input": [
      "display.plot_ppi('corrected_reflectivity', 0, vmin=-32, vmax=64)"
     ],
     "language": "python",
     "metadata": {},
     "outputs": []
    },
    {
     "cell_type": "markdown",
     "metadata": {},
     "source": [
      "Calculate the rain rate from the specific attenuation using a power law determined from the ARM Southern Great Plains site.  Mask values where the attenuation is not valid (when the cross correlation ratio or signal quality is low). Add this field to the radar object."
     ]
    },
    {
     "cell_type": "code",
     "collapsed": false,
     "input": [
      "R = 300.0 * (radar.fields['specific_attenuation']['data']) ** 0.89\n",
      "rain_rate_dic = pyart.config.get_metadata('rain_rate')\n",
      "rain_rate_dic['units'] = 'mm/hr'\n",
      "rate_not_valid = np.logical_or(\n",
      "    (radar.fields['SQI']['data'] < 0.4),\n",
      "    (radar.fields['RHOHV']['data'] < 0.8))\n",
      "rain_rate_dic['data'] = np.ma.masked_where(rate_not_valid, R)\n",
      "# fill the missing values with 0 for a nicer plot\n",
      "rain_rate_dic['data'] = np.ma.filled(rain_rate_dic['data'], 0)"
     ],
     "language": "python",
     "metadata": {},
     "outputs": []
    },
    {
     "cell_type": "code",
     "collapsed": false,
     "input": [
      "if 'RATE' in radar.fields:\n",
      "    radar.fields.pop('RATE')\n",
      "radar.add_field('RATE', rain_rate_dic)"
     ],
     "language": "python",
     "metadata": {},
     "outputs": []
    },
    {
     "cell_type": "markdown",
     "metadata": {},
     "source": [
      "Examine the rain rate"
     ]
    },
    {
     "cell_type": "code",
     "collapsed": false,
     "input": [
      "display.plot_ppi('RATE', 0, vmin=0, vmax=20.0)"
     ],
     "language": "python",
     "metadata": {},
     "outputs": []
    },
    {
     "cell_type": "markdown",
     "metadata": {},
     "source": [
      "Create a new RaveIO object from the Py-ART radar object and write this out using Rave"
     ]
    },
    {
     "cell_type": "code",
     "collapsed": false,
     "input": [
      "rio_out = bridge.radar2raveio(radar)"
     ],
     "language": "python",
     "metadata": {},
     "outputs": []
    },
    {
     "cell_type": "code",
     "collapsed": false,
     "input": [
      "container = _raveio.new()\n",
      "container.object = rio_out.object\n",
      "container.save(\"data/201405190715_SUR_with_rain_rate.h5\")\n",
      "\n",
      "import os\n",
      "print \"ODIM_H5 file is %i bytes large\" % os.path.getsize(\"data/201405190715_SUR_with_rain_rate.h5\")"
     ],
     "language": "python",
     "metadata": {},
     "outputs": []
    },
    {
     "cell_type": "heading",
     "level": 2,
     "metadata": {},
     "source": [
      "Publish a time series of Cartesian products of corrected reflectivity to BALTRAD's GoogleMapsPlugin"
     ]
    },
    {
     "cell_type": "heading",
     "level": 3,
     "metadata": {},
     "source": [
      "Using your Browser, preferably anything except Microsoft Internet Explorer, view a pre-loaded product:\n",
      "\n",
      "http://localhost:8080\n",
      "\n",
      "Use the small Calendar icon in the control panel to select 2014-05-19 17:15. The dropdown box under the date/time field should read \"S\u00fcrgavere\"."
     ]
    },
    {
     "cell_type": "heading",
     "level": 3,
     "metadata": {},
     "source": [
      "Fire up the RAVE Product Generation Framework's server. This is normally done on the command line."
     ]
    },
    {
     "cell_type": "code",
     "collapsed": false,
     "input": [
      "import os\n",
      "\n",
      "os.system(\"rave_pgf start\")"
     ],
     "language": "python",
     "metadata": {},
     "outputs": []
    },
    {
     "cell_type": "heading",
     "level": 3,
     "metadata": {},
     "source": [
      "Connect to this XML-RPC server and feed it file strings of pre-generated products"
     ]
    },
    {
     "cell_type": "code",
     "collapsed": false,
     "input": [
      "import glob, xmlrpclib\n",
      "\n",
      "ipath = \"/home/vagrant/pyart2baltrad/data/eesur\"\n",
      "opath = \"/opt/baltrad/rave_gmap/web/data/eesur_gmaps\"\n",
      "\n",
      "server = xmlrpclib.ServerProxy(\"http://localhost:8085/RAVE\")\n",
      "\n",
      "fstrs = glob.glob(ipath + \"/*.h5\")\n",
      "\n",
      "for ifstr in fstrs:\n",
      "    # Output file name must only be date/time string with format: YYYYMMDDHHmm.png\n",
      "    dt = os.path.split(ifstr)[1][:12]\n",
      "    \n",
      "    ofstr = opath + \"/%s/%s/%s/%s.png\" % (dt[:4], dt[4:6], dt[6:8], dt)\n",
      "    response = server.generate(\"se.smhi.rave.creategmapimage\", [ifstr], [\"outfile\",ofstr])\n",
      "\n",
      "print \"Generated %i PNG images for Google Maps\" % len(fstrs)"
     ],
     "language": "python",
     "metadata": {},
     "outputs": []
    },
    {
     "cell_type": "heading",
     "level": 3,
     "metadata": {},
     "source": [
      "Go back to your browser and load a sequence of images. Stop the PGF server."
     ]
    },
    {
     "cell_type": "code",
     "collapsed": false,
     "input": [
      "os.system\"rave_pgf stop\")"
     ],
     "language": "python",
     "metadata": {},
     "outputs": []
    }
   ],
   "metadata": {}
  }
 ]
}